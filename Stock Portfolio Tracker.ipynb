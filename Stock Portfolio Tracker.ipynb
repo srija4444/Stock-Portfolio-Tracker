{
 "cells": [
  {
   "cell_type": "code",
   "execution_count": null,
   "id": "68d98c08",
   "metadata": {},
   "outputs": [
    {
     "name": "stdout",
     "output_type": "stream",
     "text": [
      "Welcome to Stock Portfolio Tracker!\n",
      "Available stocks: AAPL, TSLA, GOOGL, AMZN, MSFT\n"
     ]
    }
   ],
   "source": [
    "stock_prices = {\n",
    "    \"AAPL\": 180,\n",
    "    \"TSLA\": 250,\n",
    "    \"GOOGL\": 140,\n",
    "    \"AMZN\": 130,\n",
    "    \"MSFT\": 320\n",
    "}\n",
    "\n",
    "portfolio = {}\n",
    "\n",
    "print(\"Welcome to Stock Portfolio Tracker!\")\n",
    "print(\"Available stocks:\", ', '.join(stock_prices.keys()))\n",
    "\n",
    "while True:\n",
    "    stock = input(\"Enter stock symbol (or 'done' to finish): \").upper()\n",
    "    if stock == 'DONE':\n",
    "        break\n",
    "\n",
    "    if stock not in stock_prices:\n",
    "        print(\"Stock not found. Please enter a valid stock symbol.\")\n",
    "        continue\n",
    "\n",
    "    try:\n",
    "        quantity = int(input(f\"Enter quantity of {stock}: \"))\n",
    "        if quantity < 0:\n",
    "            print(\"Quantity cannot be negative.\")\n",
    "            continue\n",
    "        portfolio[stock] = portfolio.get(stock, 0) + quantity\n",
    "    except ValueError:\n",
    "        print(\"Please enter a valid number.\")\n",
    "\n",
    "total_value = 0\n",
    "print(\"\\n Investment Summary:\")\n",
    "for stock, qty in portfolio.items():\n",
    "    price = stock_prices[stock]\n",
    "    value = price * qty\n",
    "    total_value += value\n",
    "    print(f\"{stock}: {qty} shares × ${price} = ${value}\")\n",
    "\n",
    "print(f\"\\nTotal Investment Value: ${total_value}\")\n",
    "\n",
    "save = input(\"Do you want to save this summary to a file? (yes/no): \").lower()\n",
    "if save == \"yes\":\n",
    "    filename = \"portfolio_summary.txt\"\n",
    "    with open(filename, \"w\") as file:\n",
    "        file.write(\"Stock Portfolio Summary\\n\")\n",
    "        for stock, qty in portfolio.items():\n",
    "            price = stock_prices[stock]\n",
    "            value = price * qty\n",
    "            file.write(f\"{stock}: {qty} shares × ${price} = ${value}\\n\")\n",
    "        file.write(f\"\\nTotal Investment: ${total_value}\")\n",
    "    print(f\"Summary saved to {filename}\")"
   ]
  }
 ],
 "metadata": {
  "kernelspec": {
   "display_name": "Python 3 (ipykernel)",
   "language": "python",
   "name": "python3"
  },
  "language_info": {
   "codemirror_mode": {
    "name": "ipython",
    "version": 3
   },
   "file_extension": ".py",
   "mimetype": "text/x-python",
   "name": "python",
   "nbconvert_exporter": "python",
   "pygments_lexer": "ipython3",
   "version": "3.11.5"
  }
 },
 "nbformat": 4,
 "nbformat_minor": 5
}
